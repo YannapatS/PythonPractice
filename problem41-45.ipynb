{
 "cells": [
  {
   "cell_type": "markdown",
   "metadata": {},
   "source": [
    "# Python Practise Book 41-45"
   ]
  },
  {
   "cell_type": "markdown",
   "metadata": {},
   "source": [
    "Yannapat Sakanupong 6 Oct 2020"
   ]
  },
  {
   "cell_type": "markdown",
   "metadata": {},
   "source": [
    "Problem 41"
   ]
  },
  {
   "cell_type": "code",
   "execution_count": null,
   "metadata": {},
   "outputs": [],
   "source": [
    "import math\n",
    "file, width = [inp for inp in input().split()]\n",
    "width = int(width)\n",
    "for line in open(file).readlines():\n",
    "    if (len(line) > width):\n",
    "        #for i in range(1,math.ceil(len(line)/width)):\n",
    "        #        print(line[i*width:(i*width)+width].strip())\n",
    "        thisline = []\n",
    "        n = 0\n",
    "        for i in line.split():\n",
    "            if (len(thisline) == n):\n",
    "                thisline.append([])\n",
    "            if len(' '.join(thisline[n]) + i) < 30:\n",
    "                thisline[n].append(i)\n",
    "            else:\n",
    "                n += 1\n",
    "                thisline.append([i])\n",
    "        for i in thisline:\n",
    "            print(' '.join(i))"
   ]
  },
  {
   "cell_type": "markdown",
   "metadata": {},
   "source": [
    "Problem 42"
   ]
  },
  {
   "cell_type": "code",
   "execution_count": null,
   "metadata": {},
   "outputs": [],
   "source": [
    "file = input()\n",
    "lines = open(file).readlines()\n",
    "width = len(max(lines).strip())\n",
    "for i in lines:\n",
    "    i = i.strip()\n",
    "    l = len(i)\n",
    "    print(\" \" * int((width-l)/2) + i + \" \" * int((width-l)/2))"
   ]
  },
  {
   "cell_type": "markdown",
   "metadata": {},
   "source": [
    "Problem 43"
   ]
  },
  {
   "cell_type": "code",
   "execution_count": 1,
   "metadata": {},
   "outputs": [
    {
     "name": "stdout",
     "output_type": "stream",
     "text": [
      "[(1, 'a'), (2, 'b'), (3, 'c')]\n"
     ]
    }
   ],
   "source": [
    "array1 = [1, 2, 3]\n",
    "array2 = [\"a\", \"b\", \"c\"]\n",
    "result = []\n",
    "for i in range(len(array1)):\n",
    "    result.append((array1[i],array2[i]))\n",
    "print(result)"
   ]
  },
  {
   "cell_type": "markdown",
   "metadata": {},
   "source": [
    "Problem 44"
   ]
  },
  {
   "cell_type": "code",
   "execution_count": 2,
   "metadata": {},
   "outputs": [
    {
     "name": "stdout",
     "output_type": "stream",
     "text": [
      "[0, 1, 4, 9, 16]\n"
     ]
    }
   ],
   "source": [
    "array = range(5)\n",
    "def square(x):\n",
    "    return x * x\n",
    "\n",
    "print([square(x) for x in array])"
   ]
  },
  {
   "cell_type": "markdown",
   "metadata": {},
   "source": [
    "Problem 45"
   ]
  },
  {
   "cell_type": "code",
   "execution_count": 3,
   "metadata": {},
   "outputs": [
    {
     "name": "stdout",
     "output_type": "stream",
     "text": [
      "[0, 2, 4, 6, 8]\n"
     ]
    }
   ],
   "source": [
    "array = range(10)\n",
    "def even(x):\n",
    "    return x % 2 == 0\n",
    "print([x for x in array if even(x)])"
   ]
  }
 ],
 "metadata": {
  "kernelspec": {
   "display_name": "Python 3",
   "language": "python",
   "name": "python3"
  },
  "language_info": {
   "codemirror_mode": {
    "name": "ipython",
    "version": 3
   },
   "file_extension": ".py",
   "mimetype": "text/x-python",
   "name": "python",
   "nbconvert_exporter": "python",
   "pygments_lexer": "ipython3",
   "version": "3.6.11"
  }
 },
 "nbformat": 4,
 "nbformat_minor": 4
}
