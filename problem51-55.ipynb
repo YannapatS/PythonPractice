{
 "cells": [
  {
   "cell_type": "markdown",
   "metadata": {},
   "source": [
    "# Python Practise Book 51-55"
   ]
  },
  {
   "cell_type": "markdown",
   "metadata": {},
   "source": [
    "Yannapat Sakanupong 6 Oct 2020"
   ]
  },
  {
   "cell_type": "markdown",
   "metadata": {},
   "source": [
    "# Problem 51"
   ]
  },
  {
   "cell_type": "code",
   "execution_count": 10,
   "metadata": {},
   "outputs": [
    {
     "name": "stdout",
     "output_type": "stream",
     "text": [
      "284\n",
      "True\n",
      "True\n",
      "True\n"
     ]
    }
   ],
   "source": [
    "def mutate(s):\n",
    " az = 'abcdefghijklmnopqrstuvwxyz'\n",
    " a = [ s[:pos]+e+s[pos:] for pos in range(len(s)+1) for e in az]\n",
    " b = [ s[:pos] + s[(pos+1):] for pos in range(len(s)) ]\n",
    " c = [ s[:pos]+e+s[pos+1:] for pos in range(len(s)) for e in az]\n",
    " d = [ s[:x]+s[x:x+2][::-1]+s[x+2:] for x in range(0, len(s)-1) ]\n",
    " return list(set(a+b+c+d))\n",
    "words = mutate('hello')\n",
    "print(len(words))\n",
    "print('helo' in words)\n",
    "print('cello' in words)\n",
    "print('helol' in words)"
   ]
  },
  {
   "cell_type": "markdown",
   "metadata": {},
   "source": [
    "# Problem 52"
   ]
  },
  {
   "cell_type": "code",
   "execution_count": 9,
   "metadata": {},
   "outputs": [
    {
     "name": "stdout",
     "output_type": "stream",
     "text": [
      "False\n",
      "True\n",
      "True\n",
      "False\n"
     ]
    }
   ],
   "source": [
    "def nearly_equal(a,b):\n",
    "    return a in mutate(b)\n",
    "print( nearly_equal('python', 'perl') )\n",
    "print( nearly_equal('perl', 'pearl') )\n",
    "print( nearly_equal('python', 'jython') )\n",
    "print( nearly_equal('man', 'woman') )"
   ]
  },
  {
   "cell_type": "markdown",
   "metadata": {},
   "source": [
    "# Problem 53"
   ]
  },
  {
   "cell_type": "code",
   "execution_count": 10,
   "metadata": {},
   "outputs": [],
   "source": [
    "def word_frequency(words):\n",
    "    frequency = {}\n",
    "for w in words:\n",
    "     frequency[w] = frequency.get(w, 0) + 1\n",
    "         return frequency\n",
    "    def read_words(filename):\n",
    "        return open(filename).read().split()\n",
    "    def main(filename):\n",
    "frequency = word_frequency(read_words(filename))\n",
    "frequency = {k: v for k, v in sorted(frequency.items(), key=lambda item: item[1], reverse=True)}\n",
    " for word, count in frequency.items():\n",
    "    print(word, count)\n",
    "main('she.txt')"
   ]
  },
  {
   "cell_type": "markdown",
   "metadata": {},
   "source": [
    "# Problem 54"
   ]
  },
  {
   "cell_type": "code",
   "execution_count": 12,
   "metadata": {},
   "outputs": [],
   "source": [
    "def char_frequency(words):\n",
    "     frequency = {}\n",
    "    for w in words:\n",
    "        for c in w:\n",
    "        frequency[c] = frequency.get(c, 0) + 1\n",
    "    return frequency\n",
    "def read_words(filename):\n",
    "     return open(filename).read().split()\n",
    "def checkFile(filename):\n",
    "     frequency = char_frequency(read_words(filename))\n",
    "         print(frequency)\n",
    "            \n",
    "    nCL = frequency.get(':', 0)\n",
    "    nSC = frequency.get(';', 0)\n",
    "    nSB = frequency.get('[', 0)\n",
    "\n",
    "     if nCL > 0 and nCL > nSC or nSB > 0:\n",
    "        print('Python program file')\n",
    "    elif nSC > 0 and nSC > nCL :\n",
    "         print('C program file')\n",
    "    else:\n",
    "         print('Text file')\n",
    "\n",
    "checkFile('a.txt')"
   ]
  },
  {
   "cell_type": "markdown",
   "metadata": {},
   "source": [
    "# Problem 55"
   ]
  },
  {
   "cell_type": "code",
   "execution_count": null,
   "metadata": {},
   "outputs": [],
   "source": [
    "def anagrams(inList):\n",
    "    res = dict()\n",
    "    for e in inList:\n",
    "        for k,v in res.items():\n",
    "            if {i for i in e} == {i for i in k} :\n",
    "                res[k] += [e]\n",
    "                break\n",
    "        else :\n",
    "            res[e] = [e]\n",
    "    return [v for k,v in res.items()]\n"
   ]
  },
  {
   "cell_type": "code",
   "execution_count": null,
   "metadata": {},
   "outputs": [],
   "source": [
    "anagrams(['eat', 'ate', 'done', 'tea', 'soup', 'node'])"
   ]
  }
 ],
 "metadata": {
  "kernelspec": {
   "display_name": "Python 3",
   "language": "python",
   "name": "python3"
  },
  "language_info": {
   "codemirror_mode": {
    "name": "ipython",
    "version": 3
   },
   "file_extension": ".py",
   "mimetype": "text/x-python",
   "name": "python",
   "nbconvert_exporter": "python",
   "pygments_lexer": "ipython3",
   "version": "3.6.11"
  }
 },
 "nbformat": 4,
 "nbformat_minor": 4
}
